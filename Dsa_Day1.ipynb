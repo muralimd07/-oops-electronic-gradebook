{
  "nbformat": 4,
  "nbformat_minor": 0,
  "metadata": {
    "colab": {
      "provenance": [],
      "toc_visible": true,
      "authorship_tag": "ABX9TyOPnh38+5HKCWDojxtUEsPD",
      "include_colab_link": true
    },
    "kernelspec": {
      "name": "python3",
      "display_name": "Python 3"
    },
    "language_info": {
      "name": "python"
    }
  },
  "cells": [
    {
      "cell_type": "markdown",
      "metadata": {
        "id": "view-in-github",
        "colab_type": "text"
      },
      "source": [
        "<a href=\"https://colab.research.google.com/github/muralimd07/-oops-electronic-gradebook/blob/master/Dsa_Day1.ipynb\" target=\"_parent\"><img src=\"https://colab.research.google.com/assets/colab-badge.svg\" alt=\"Open In Colab\"/></a>"
      ]
    },
    {
      "cell_type": "markdown",
      "source": [
        "## Algorithm\n",
        "\n",
        "## an algorithm is a set of well-defined instructions to solve a particular problem. \n",
        "## It takes a set of input(s) and produces the desired output. For example,\n",
        "\n",
        "\n"
      ],
      "metadata": {
        "id": "5ZGIXx2MUDZn"
      }
    },
    {
      "cell_type": "code",
      "source": [],
      "metadata": {
        "id": "ILFGeaDSUYbC"
      },
      "execution_count": null,
      "outputs": []
    }
  ]
}